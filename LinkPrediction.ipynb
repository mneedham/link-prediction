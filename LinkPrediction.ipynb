{
 "cells": [
  {
   "cell_type": "markdown",
   "metadata": {},
   "source": [
    "# Data Science Coding Challenge\n",
    "\n",
    "In this notebook we're going to do link prediction on an authors and papers graph. We'll be trying to work out which authors are likely to collaborate in future."
   ]
  },
  {
   "cell_type": "code",
   "execution_count": 5,
   "metadata": {},
   "outputs": [
    {
     "name": "stdout",
     "output_type": "stream",
     "text": [
      "Collecting sklearn\n",
      "Requirement already satisfied: matplotlib in ./a/lib/python3.6/site-packages\n",
      "Requirement already satisfied: neo4j in ./a/lib/python3.6/site-packages\n",
      "Requirement already satisfied: scikit-learn in ./a/lib/python3.6/site-packages (from sklearn)\n",
      "Requirement already satisfied: pyparsing!=2.0.4,!=2.1.2,!=2.1.6,>=2.0.1 in ./a/lib/python3.6/site-packages (from matplotlib)\n",
      "Requirement already satisfied: numpy>=1.10.0 in ./a/lib/python3.6/site-packages (from matplotlib)\n",
      "Requirement already satisfied: kiwisolver>=1.0.1 in ./a/lib/python3.6/site-packages (from matplotlib)\n",
      "Requirement already satisfied: cycler>=0.10 in ./a/lib/python3.6/site-packages (from matplotlib)\n",
      "Requirement already satisfied: python-dateutil>=2.1 in ./a/lib/python3.6/site-packages (from matplotlib)\n",
      "Requirement already satisfied: neobolt<2,>=1.7.3 in ./a/lib/python3.6/site-packages (from neo4j)\n",
      "Requirement already satisfied: neotime<2,>=1.7.1 in ./a/lib/python3.6/site-packages (from neo4j)\n",
      "Requirement already satisfied: scipy>=0.13.3 in ./a/lib/python3.6/site-packages (from scikit-learn->sklearn)\n",
      "Requirement already satisfied: setuptools in ./a/lib/python3.6/site-packages (from kiwisolver>=1.0.1->matplotlib)\n",
      "Requirement already satisfied: six in ./a/lib/python3.6/site-packages (from cycler>=0.10->matplotlib)\n",
      "Requirement already satisfied: pytz in ./a/lib/python3.6/site-packages (from neotime<2,>=1.7.1->neo4j)\n",
      "Installing collected packages: sklearn\n",
      "Successfully installed sklearn-0.0\n"
     ]
    }
   ],
   "source": [
    "! pip install sklearn matplotlib neo4j"
   ]
  },
  {
   "cell_type": "code",
   "execution_count": null,
   "metadata": {},
   "outputs": [],
   "source": [
    "import matplotlib\n",
    "matplotlib.use('TkAgg')\n",
    "import matplotlib.pyplot as plt\n",
    "from neo4j import GraphDatabase"
   ]
  },
  {
   "cell_type": "code",
   "execution_count": null,
   "metadata": {},
   "outputs": [],
   "source": [
    "driver = GraphDatabase.driver(\"bolt://localhost\", auth=(\"neo4j\", \"neo\"))"
   ]
  },
  {
   "cell_type": "code",
   "execution_count": null,
   "metadata": {},
   "outputs": [],
   "source": [
    "with driver.session() as session:\n",
    "    result = session.run(\"\"\"\n",
    "    MATCH (a:Article)\n",
    "    RETURN a \n",
    "    LIMIT 10\"\"\")\n",
    "    \n",
    "    for row in result:\n",
    "        print(row)"
   ]
  },
  {
   "cell_type": "markdown",
   "metadata": {},
   "source": [
    "## Exploring the data\n",
    "\n",
    "In this section we're going to explore the data and see what we have to work with."
   ]
  },
  {
   "cell_type": "code",
   "execution_count": null,
   "metadata": {},
   "outputs": [],
   "source": []
  },
  {
   "cell_type": "markdown",
   "metadata": {},
   "source": [
    "## Splitting the train and test data\n",
    "\n",
    "In this section we're going to split our data into training and test sets to use with a machine learning classifier. \n"
   ]
  },
  {
   "cell_type": "code",
   "execution_count": null,
   "metadata": {},
   "outputs": [],
   "source": []
  },
  {
   "cell_type": "markdown",
   "metadata": {},
   "source": [
    "## Generating graphy features"
   ]
  },
  {
   "cell_type": "code",
   "execution_count": null,
   "metadata": {},
   "outputs": [],
   "source": []
  },
  {
   "cell_type": "markdown",
   "metadata": {},
   "source": [
    "## Choosing a machine learning algorithm"
   ]
  },
  {
   "cell_type": "code",
   "execution_count": null,
   "metadata": {},
   "outputs": [],
   "source": []
  },
  {
   "cell_type": "markdown",
   "metadata": {},
   "source": [
    "## Evaluating results"
   ]
  },
  {
   "cell_type": "code",
   "execution_count": null,
   "metadata": {},
   "outputs": [],
   "source": [
    "dddd"
   ]
  },
  {
   "cell_type": "code",
   "execution_count": null,
   "metadata": {},
   "outputs": [],
   "source": []
  },
  {
   "cell_type": "markdown",
   "metadata": {},
   "source": []
  }
 ],
 "metadata": {
  "kernelspec": {
   "display_name": "Python 3",
   "language": "python",
   "name": "python3"
  },
  "language_info": {
   "codemirror_mode": {
    "name": "ipython",
    "version": 3
   },
   "file_extension": ".py",
   "mimetype": "text/x-python",
   "name": "python",
   "nbconvert_exporter": "python",
   "pygments_lexer": "ipython3",
   "version": "3.6.7"
  }
 },
 "nbformat": 4,
 "nbformat_minor": 2
}
