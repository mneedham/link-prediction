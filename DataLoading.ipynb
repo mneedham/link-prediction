{
 "cells": [
  {
   "cell_type": "markdown",
   "metadata": {
    "colab_type": "text",
    "id": "view-in-github"
   },
   "source": [
    "<a href=\"https://colab.research.google.com/github/mneedham/link-prediction/blob/master/DataLoading.ipynb\" target=\"_parent\"><img src=\"https://colab.research.google.com/assets/colab-badge.svg\" alt=\"Open In Colab\"/></a>"
   ]
  },
  {
   "cell_type": "markdown",
   "metadata": {},
   "source": [
    "# Citation Dataset Loading\n",
    "\n",
    "In this notebook we're going to load the citation dataset into Neo4j."
   ]
  },
  {
   "cell_type": "code",
   "execution_count": null,
   "metadata": {},
   "outputs": [],
   "source": [
    "! pip install neo4j "
   ]
  },
  {
   "cell_type": "code",
   "execution_count": 1,
   "metadata": {},
   "outputs": [],
   "source": [
    "from neo4j import GraphDatabase"
   ]
  },
  {
   "cell_type": "code",
   "execution_count": 2,
   "metadata": {},
   "outputs": [],
   "source": [
    "driver = GraphDatabase.driver(\"bolt://35.153.194.5:36864\", auth=(\"neo4j\", \"material-seas-machines\"))"
   ]
  },
  {
   "cell_type": "markdown",
   "metadata": {},
   "source": [
    "## Create Constraints\n",
    "\n",
    "First let's create some constraints to make sure we don't import duplicate data:"
   ]
  },
  {
   "cell_type": "code",
   "execution_count": 5,
   "metadata": {},
   "outputs": [],
   "source": [
    "with driver.session() as session:\n",
    "    session.run(\"CREATE CONSTRAINT ON (article:Article) ASSERT article.index IS UNIQUE\")\n",
    "    session.run(\"CREATE CONSTRAINT ON (author:Author) ASSERT author.name IS UNIQUE\")\n",
    "    session.run(\"CREATE CONSTRAINT ON (v:Venue) ASSERT v.name IS UNIQUE\")"
   ]
  },
  {
   "cell_type": "markdown",
   "metadata": {},
   "source": [
    "## Loading the data\n",
    "\n",
    "Now let's load the data into the database. We'll create nodes for Articles, Venues, and Authors.\n"
   ]
  },
  {
   "cell_type": "code",
   "execution_count": 4,
   "metadata": {},
   "outputs": [],
   "source": [
    "with driver.session() as session:\n",
    "    query = \"\"\"\n",
    "    CALL apoc.periodic.iterate(\n",
    "      'UNWIND [\"dblp-ref-0.json\", \"dblp-ref-1.json\", \"dblp-ref-2.json\", \"dblp-ref-3.json\"] AS file\n",
    "       CALL apoc.load.json(\"https://github.com/mneedham/link-prediction/raw/master/data/\" + file)\n",
    "       YIELD value WITH value\n",
    "       WHERE value.venue IN [\"Lecture Notes in Computer Science\", \n",
    "                             \"Communications of The ACM\",\n",
    "                             \"international conference on software engineering\",\n",
    "                             \"advances in computing and communications\"]\n",
    "       return value',\n",
    "      'MERGE (a:Article {index:value.id})\n",
    "       SET a += apoc.map.clean(value,[\"id\",\"authors\",\"references\", \"venue\"],[0])\n",
    "       WITH a, value.authors as authors, value.references AS citations, value.venue AS venue\n",
    "       MERGE (v:Venue {name: venue})\n",
    "       MERGE (a)-[:VENUE]->(v)\n",
    "       FOREACH(author in authors | \n",
    "         MERGE (b:Author{name:author})\n",
    "         MERGE (a)-[:AUTHOR]->(b))\n",
    "       FOREACH(citation in citations | \n",
    "         MERGE (cited:Article {index:citation})\n",
    "         MERGE (a)-[:CITED]->(cited))', \n",
    "       {batchSize: 1000, iterateList: true});\n",
    "    \"\"\"\n",
    "    session.run(query)"
   ]
  },
  {
   "cell_type": "markdown",
   "metadata": {},
   "source": [
    "## Choosing a machine learning algorithm\n",
    "\n",
    "In this section we're going to choose a machine learning algorithm"
   ]
  },
  {
   "cell_type": "markdown",
   "metadata": {},
   "source": [
    "## Generating graphy features\n",
    "\n",
    "In this section we're going to generate features for our model"
   ]
  },
  {
   "cell_type": "markdown",
   "metadata": {},
   "source": [
    "## Evaluating results\n",
    "\n",
    "In this section we'll evaluate our model."
   ]
  },
  {
   "cell_type": "code",
   "execution_count": null,
   "metadata": {},
   "outputs": [],
   "source": []
  },
  {
   "cell_type": "markdown",
   "metadata": {},
   "source": []
  }
 ],
 "metadata": {
  "kernelspec": {
   "display_name": "Python 3",
   "language": "python",
   "name": "python3"
  },
  "language_info": {
   "codemirror_mode": {
    "name": "ipython",
    "version": 3
   },
   "file_extension": ".py",
   "mimetype": "text/x-python",
   "name": "python",
   "nbconvert_exporter": "python",
   "pygments_lexer": "ipython3",
   "version": "3.6.7"
  }
 },
 "nbformat": 4,
 "nbformat_minor": 2
}
